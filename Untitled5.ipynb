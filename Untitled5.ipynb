{
  "nbformat": 4,
  "nbformat_minor": 0,
  "metadata": {
    "colab": {
      "provenance": [],
      "authorship_tag": "ABX9TyM1YouOW0G/N93n8AsI7zCX",
      "include_colab_link": true
    },
    "kernelspec": {
      "name": "python3",
      "display_name": "Python 3"
    },
    "language_info": {
      "name": "python"
    }
  },
  "cells": [
    {
      "cell_type": "markdown",
      "metadata": {
        "id": "view-in-github",
        "colab_type": "text"
      },
      "source": [
        "<a href=\"https://colab.research.google.com/github/SaranyaPMSV/Java/blob/main/Untitled5.ipynb\" target=\"_parent\"><img src=\"https://colab.research.google.com/assets/colab-badge.svg\" alt=\"Open In Colab\"/></a>"
      ]
    },
    {
      "cell_type": "code",
      "execution_count": 28,
      "metadata": {
        "colab": {
          "base_uri": "https://localhost:8080/",
          "height": 70
        },
        "id": "ixJAwvICL3EE",
        "outputId": "29657e0d-de43-4d9b-a918-679657d944bb"
      },
      "outputs": [
        {
          "output_type": "stream",
          "name": "stdout",
          "text": [
            "Enter your choice(rock,paper,sissor):sissor\n",
            "computers choice: rock\n"
          ]
        },
        {
          "output_type": "execute_result",
          "data": {
            "text/plain": [
              "'computer won'"
            ],
            "application/vnd.google.colaboratory.intrinsic+json": {
              "type": "string"
            }
          },
          "metadata": {},
          "execution_count": 28
        }
      ],
      "source": [
        "import random\n",
        "def get_choices():\n",
        "  player_choice=input(\"Enter your choice(rock,paper,sissor):\")\n",
        "  choices=[\"rock\",\"paper\",\"sissor\"]\n",
        "  computer_choice=random.choice(choices)\n",
        "  print(\"computers choice: \"+computer_choice)\n",
        "  if computer_choice==player_choice:\n",
        "    return \"ITS A TIE\"\n",
        "  elif (computer_choice==\"rock\" and player_choice==\"paper\"):\n",
        "    if (computer_choice==\"paper\" and player_choice==\"sissor\"):\n",
        "      if (computer_choice==\"sissor\" and player_choice==\"rock\"):\n",
        "        return \"you won\"\n",
        "  else:\n",
        "    return \"computer won\"\n",
        "get_choices()"
      ]
    }
  ]
}